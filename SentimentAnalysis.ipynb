{
 "cells": [
  {
   "cell_type": "code",
   "execution_count": 16,
   "id": "e087faff",
   "metadata": {},
   "outputs": [],
   "source": [
    "import numpy as np\n",
    "import pandas as pd\n",
    "\n",
    "\n",
    "import nltk\n",
    "from nltk.corpus import stopwords\n",
    "from nltk.tokenize import word_tokenize\n",
    "import re\n",
    "from sklearn.model_selection import train_test_split\n",
    "import matplotlib.pyplot as plt\n",
    "import keras\n",
    "import tensorflow as tf\n",
    "from keras.models import Sequential, load_model\n",
    "from keras.layers import Dense, LSTM, Embedding, Dropout\n",
    "from keras.preprocessing.text import Tokenizer\n",
    "from keras.preprocessing.sequence import pad_sequences"
   ]
  },
  {
   "cell_type": "code",
   "execution_count": 32,
   "id": "1575f90c",
   "metadata": {},
   "outputs": [
    {
     "name": "stdout",
     "output_type": "stream",
     "text": [
      "(14640, 2)\n"
     ]
    },
    {
     "data": {
      "text/html": [
       "<div>\n",
       "<style scoped>\n",
       "    .dataframe tbody tr th:only-of-type {\n",
       "        vertical-align: middle;\n",
       "    }\n",
       "\n",
       "    .dataframe tbody tr th {\n",
       "        vertical-align: top;\n",
       "    }\n",
       "\n",
       "    .dataframe thead th {\n",
       "        text-align: right;\n",
       "    }\n",
       "</style>\n",
       "<table border=\"1\" class=\"dataframe\">\n",
       "  <thead>\n",
       "    <tr style=\"text-align: right;\">\n",
       "      <th></th>\n",
       "      <th>airline_sentiment</th>\n",
       "      <th>text</th>\n",
       "    </tr>\n",
       "  </thead>\n",
       "  <tbody>\n",
       "    <tr>\n",
       "      <th>0</th>\n",
       "      <td>negative</td>\n",
       "      <td>@United what the...? I go into the \"all airlin...</td>\n",
       "    </tr>\n",
       "    <tr>\n",
       "      <th>1</th>\n",
       "      <td>negative</td>\n",
       "      <td>@USAirways literally the worst flying experien...</td>\n",
       "    </tr>\n",
       "    <tr>\n",
       "      <th>2</th>\n",
       "      <td>negative</td>\n",
       "      <td>@AmericanAir The pilot told us they would rele...</td>\n",
       "    </tr>\n",
       "    <tr>\n",
       "      <th>3</th>\n",
       "      <td>negative</td>\n",
       "      <td>@USAirways very embarrassing.</td>\n",
       "    </tr>\n",
       "    <tr>\n",
       "      <th>4</th>\n",
       "      <td>negative</td>\n",
       "      <td>@SouthwestAir wifi stays connected about the l...</td>\n",
       "    </tr>\n",
       "  </tbody>\n",
       "</table>\n",
       "</div>"
      ],
      "text/plain": [
       "  airline_sentiment                                               text\n",
       "0          negative  @United what the...? I go into the \"all airlin...\n",
       "1          negative  @USAirways literally the worst flying experien...\n",
       "2          negative  @AmericanAir The pilot told us they would rele...\n",
       "3          negative                      @USAirways very embarrassing.\n",
       "4          negative  @SouthwestAir wifi stays connected about the l..."
      ]
     },
     "execution_count": 32,
     "metadata": {},
     "output_type": "execute_result"
    }
   ],
   "source": [
    "data = pd.read_csv('AirlineTweets.csv')\n",
    "data = data.sample(frac=1).reset_index(drop=True)\n",
    "data = data[['airline_sentiment','text']]\n",
    "print(data.shape)\n",
    "\n",
    "data.head()\n"
   ]
  },
  {
   "cell_type": "code",
   "execution_count": 4,
   "id": "d655131a",
   "metadata": {},
   "outputs": [
    {
     "data": {
      "text/plain": [
       "<AxesSubplot:>"
      ]
     },
     "execution_count": 4,
     "metadata": {},
     "output_type": "execute_result"
    },
    {
     "data": {
      "image/png": "[encoded data removed]",
      "text/plain": [
       "<Figure size 432x288 with 1 Axes>"
      ]
     },
     "metadata": {
      "needs_background": "light"
     },
     "output_type": "display_data"
    }
   ],
   "source": [
    "data['airline_sentiment'].value_counts().sort_index().plot.bar()"
   ]
  },
  {
   "cell_type": "code",
   "execution_count": 34,
   "id": "b1d53274",
   "metadata": {},
   "outputs": [
    {
     "data": {
      "text/html": [
       "<div>\n",
       "<style scoped>\n",
       "    .dataframe tbody tr th:only-of-type {\n",
       "        vertical-align: middle;\n",
       "    }\n",
       "\n",
       "    .dataframe tbody tr th {\n",
       "        vertical-align: top;\n",
       "    }\n",
       "\n",
       "    .dataframe thead th {\n",
       "        text-align: right;\n",
       "    }\n",
       "</style>\n",
       "<table border=\"1\" class=\"dataframe\">\n",
       "  <thead>\n",
       "    <tr style=\"text-align: right;\">\n",
       "      <th></th>\n",
       "      <th>airline_sentiment</th>\n",
       "      <th>text</th>\n",
       "      <th>clean_text</th>\n",
       "    </tr>\n",
       "  </thead>\n",
       "  <tbody>\n",
       "    <tr>\n",
       "      <th>0</th>\n",
       "      <td>negative</td>\n",
       "      <td>what the i go into the all airlines lounge w ...</td>\n",
       "      <td>go airlines lounge w star alliance club card b...</td>\n",
       "    </tr>\n",
       "    <tr>\n",
       "      <th>1</th>\n",
       "      <td>negative</td>\n",
       "      <td>literally the worst flying experience of my l...</td>\n",
       "      <td>literally worst flying experience life flown lot</td>\n",
       "    </tr>\n",
       "    <tr>\n",
       "      <th>2</th>\n",
       "      <td>negative</td>\n",
       "      <td>the pilot told us they would release bags as ...</td>\n",
       "      <td>pilot told us would release bags well offer ho...</td>\n",
       "    </tr>\n",
       "    <tr>\n",
       "      <th>3</th>\n",
       "      <td>negative</td>\n",
       "      <td>very embarrassing</td>\n",
       "      <td>embarrassing</td>\n",
       "    </tr>\n",
       "    <tr>\n",
       "      <th>4</th>\n",
       "      <td>negative</td>\n",
       "      <td>wifi stays connected about the lifetime of a ...</td>\n",
       "      <td>wifi stays connected lifetime higgs boson</td>\n",
       "    </tr>\n",
       "  </tbody>\n",
       "</table>\n",
       "</div>"
      ],
      "text/plain": [
       "  airline_sentiment                                               text  \\\n",
       "0          negative   what the i go into the all airlines lounge w ...   \n",
       "1          negative   literally the worst flying experience of my l...   \n",
       "2          negative   the pilot told us they would release bags as ...   \n",
       "3          negative                                  very embarrassing   \n",
       "4          negative   wifi stays connected about the lifetime of a ...   \n",
       "\n",
       "                                          clean_text  \n",
       "0  go airlines lounge w star alliance club card b...  \n",
       "1   literally worst flying experience life flown lot  \n",
       "2  pilot told us would release bags well offer ho...  \n",
       "3                                       embarrassing  \n",
       "4          wifi stays connected lifetime higgs boson  "
      ]
     },
     "execution_count": 34,
     "metadata": {},
     "output_type": "execute_result"
    }
   ],
   "source": [
    "# Data Pre-Processing\n",
    "\n",
    "punctuation = '!\"#$%&\\'()*+,-./:;<=>?[\\\\]^_`{|}~'\n",
    "\n",
    "def remove_handle(text, pattern):\n",
    "    r = re.findall(pattern,text)\n",
    "    for word in r:\n",
    "        text = re.sub(word, '', text)\n",
    "    return text\n",
    "stop_words = set(stopwords.words('english'))\n",
    "\n",
    "data['text'] = data['text'].apply(lambda x: x.lower())\n",
    "data['text'] = np.vectorize(remove_handle)(data['text'],'@[\\w]*')\n",
    "data['text'] = data['text'].apply(lambda x: re.sub('[^a-zA-z0-9\\s]', '', x))\n",
    "data['clean_text'] = data['text'].apply(lambda x: ' '.join([word for word in x.split() if word not in (stop_words)]))\n",
    "data.head()\n",
    "  "
   ]
  },
  {
   "cell_type": "code",
   "execution_count": 8,
   "id": "0b7b9695",
   "metadata": {},
   "outputs": [],
   "source": [
    "# Tokenization, Padding sequences\n",
    "max_words = 4500\n",
    "tokenizer = Tokenizer(num_words=max_words, split=' ')\n",
    "tokenizer.fit_on_texts(data['clean_text'].values) # creates an internal dictionary based on the tweets\n",
    "\n",
    "x = tokenizer.texts_to_sequences(data['clean_text'].values) # replaces words in the tweets with corresponding int values\n",
    "x = pad_sequences(x) # padding our text vector so they all have the same length\n",
    "#len(x)\n",
    "#print(x.shape)\n",
    "#print(x.shape[1])\n"
   ]
  },
  {
   "cell_type": "code",
   "execution_count": 35,
   "id": "b397f2f0",
   "metadata": {},
   "outputs": [
    {
     "name": "stdout",
     "output_type": "stream",
     "text": [
      "Model: \"sequential_1\"\n",
      "_________________________________________________________________\n",
      " Layer (type)                Output Shape              Param #   \n",
      "=================================================================\n",
      " embedding_1 (Embedding)     (None, 32, 256)           1152000   \n",
      "                                                                 \n",
      " dropout_1 (Dropout)         (None, 32, 256)           0         \n",
      "                                                                 \n",
      " lstm_2 (LSTM)               (None, 32, 256)           525312    \n",
      "                                                                 \n",
      " lstm_3 (LSTM)               (None, 256)               525312    \n",
      "                                                                 \n",
      " dense_1 (Dense)             (None, 3)                 771       \n",
      "                                                                 \n",
      "=================================================================\n",
      "Total params: 2,203,395\n",
      "Trainable params: 2,203,395\n",
      "Non-trainable params: 0\n",
      "_________________________________________________________________\n",
      "None\n",
      "Epoch 1/10\n",
      "321/321 - 192s - loss: 0.9279 - accuracy: 0.6234 - 192s/epoch - 597ms/step\n",
      "Epoch 2/10\n",
      "321/321 - 178s - loss: 0.9070 - accuracy: 0.6245 - 178s/epoch - 554ms/step\n",
      "Epoch 3/10\n",
      "321/321 - 176s - loss: 0.8378 - accuracy: 0.6465 - 176s/epoch - 549ms/step\n",
      "Epoch 4/10\n",
      "321/321 - 176s - loss: 0.7419 - accuracy: 0.6869 - 176s/epoch - 547ms/step\n",
      "Epoch 5/10\n",
      "321/321 - 215s - loss: 0.6536 - accuracy: 0.7299 - 215s/epoch - 669ms/step\n",
      "Epoch 6/10\n",
      "321/321 - 169s - loss: 0.5514 - accuracy: 0.7802 - 169s/epoch - 527ms/step\n",
      "Epoch 7/10\n",
      "321/321 - 174s - loss: 0.4641 - accuracy: 0.8125 - 174s/epoch - 544ms/step\n",
      "Epoch 8/10\n",
      "321/321 - 162s - loss: 0.4055 - accuracy: 0.8380 - 162s/epoch - 504ms/step\n",
      "Epoch 9/10\n",
      "321/321 - 151s - loss: 0.3502 - accuracy: 0.8623 - 151s/epoch - 470ms/step\n",
      "Epoch 10/10\n",
      "321/321 - 161s - loss: 0.3040 - accuracy: 0.8787 - 161s/epoch - 503ms/step\n"
     ]
    }
   ],
   "source": [
    "model = Sequential()\n",
    "output_space_dim = 256\n",
    "model.add(Embedding(input_dim=max_words, output_dim=output_space_dim, input_length=x.shape[1])) # input_lenth=32=number of words in a tweet\n",
    "model.add(Dropout(rate=0.3)) # helps prevent overfitting, 30% input units are dropped (set to 0) during training time while the rest are scaled up so that the sum is unchanged\n",
    "model.add(LSTM(units=output_space_dim, return_sequences=True, dropout=0.3, recurrent_dropout=0.2))\n",
    "model.add(LSTM(units=output_space_dim, dropout=0.3, recurrent_dropout=0.2))\n",
    "model.add(Dense(units=3, activation='softmax')) # densely connected NN layer\n",
    "model.compile(loss=tf.keras.losses.CategoricalCrossentropy(), optimizer='adam', metrics=['accuracy'])\n",
    "print(model.summary())\n",
    "\n",
    "y = pd.get_dummies(data['airline_sentiment']).values #converts categorical data .i.e. labels to dummy variables\n",
    "x_train, x_test, y_train, y_test = train_test_split(x, y, test_size=0.3, random_state=0)\n",
    "\n",
    "RNNmodel = model.fit(x_train, y_train, epochs=10, verbose=2) # default batch size = 32\n",
    "\n",
    "model.save('sentiment_analysis.h5')\n",
    "\n",
    "predictions = model.predict(x_test)\n",
    "\n"
   ]
  },
  {
   "cell_type": "code",
   "execution_count": 37,
   "id": "f8af914d",
   "metadata": {},
   "outputs": [
    {
     "data": {
      "text/plain": [
       "Text(0, 0.5, 'Accuracy')"
      ]
     },
     "execution_count": 37,
     "metadata": {},
     "output_type": "execute_result"
    },
    {
     "data": {
      "image/png": "[encoded data removed]",
      "text/plain": [
       "<Figure size 432x288 with 1 Axes>"
      ]
     },
     "metadata": {
      "needs_background": "light"
     },
     "output_type": "display_data"
    }
   ],
   "source": [
    "plt.plot(RNNmodel.history['accuracy'])\n",
    "plt.xlabel('Epochs')\n",
    "plt.ylabel('Accuracy')"
   ]
  },
  {
   "cell_type": "code",
   "execution_count": null,
   "id": "27cd232f",
   "metadata": {},
   "outputs": [],
   "source": []
  },
  {
   "cell_type": "code",
   "execution_count": 38,
   "id": "6a0027f5",
   "metadata": {},
   "outputs": [
    {
     "name": "stdout",
     "output_type": "stream",
     "text": [
      "Most Informative Features\n",
      "      contains(passbook) = True           positi : negati =     35.0 : 1.0\n",
      "         contains(hours) = True           negati : positi =     31.0 : 1.0\n",
      "          contains(rock) = True           positi : negati =     30.3 : 1.0\n",
      "        contains(street) = True           neutra : negati =     28.2 : 1.0\n",
      "          contains(wall) = True           neutra : negati =     27.4 : 1.0\n",
      "         contains(kudos) = True           positi : negati =     27.2 : 1.0\n",
      "      contains(deserves) = True           positi : negati =     27.2 : 1.0\n",
      "       contains(helpful) = True           positi : neutra =     26.2 : 1.0\n",
      "     contains(fantastic) = True           positi : negati =     25.6 : 1.0\n",
      "     contains(wonderful) = True           positi : negati =     25.6 : 1.0\n"
     ]
    }
   ],
   "source": [
    "# Naive-Bayes Classifier\n",
    "\n",
    "index = range(len(data['clean_text']))\n",
    "#data.drop('text', axis=1, inplace=True)\n",
    "x_train, x_test, y_train, y_test = train_test_split(data,index,test_size=0.30,random_state=0)\n",
    "\n",
    "train_tweets=[]\n",
    "true_sentiments=[]        \n",
    "word_features=[]\n",
    "#stopwords = stopwords.words(\"english\")\n",
    "\n",
    "\n",
    "def get_feature_vector(tweet):\n",
    "    feature_vector = []\n",
    "    words = tweet.split()\n",
    "    for word in words:\n",
    "        #replace two or more occurences of a word with two occurrences\n",
    "        repetition = re.compile(r\"(.)\\1{1,}\", re.DOTALL)\n",
    "        word = repetition.sub(r\"\\1\\1\", word)\n",
    "        #check if the word begins with a letter or number\n",
    "        val = re.search(r\"^[a-z][a-z0-9]*$\", word)\n",
    "        #ignore if it is a stop word\n",
    "        #if(word in stopwords or val is None):\n",
    "        if(val is None):\n",
    "            continue\n",
    "        else:\n",
    "            feature_vector.append(word)\n",
    "    return feature_vector\n",
    "\n",
    "for i in range(len(x_train)):\n",
    "    sentiment = x_train['airline_sentiment'][y_train[i]]\n",
    "    tweet = x_train['clean_text'][y_train[i]]\n",
    "    feature_vector = get_feature_vector(tweet)\n",
    "    word_features.extend(feature_vector)\n",
    "    train_tweets.append((feature_vector, sentiment))\n",
    "\n",
    "    \n",
    "#print(\"feature vectors done\")    \n",
    "\n",
    "for i in range(len(x_test)):\n",
    "    sentiment = x_test['airline_sentiment'][y_test[i]]\n",
    "    true_sentiments.append((sentiment))\n",
    "    \n",
    "#print(\"true sentiments done\")\n",
    "                             \n",
    "# Extracts each feature from the tweet and stores it in a dictionary            \n",
    "def extract_features(tweet):\n",
    "    words = set(tweet)\n",
    "    features = {}\n",
    "    for word in word_features:\n",
    "        features['contains(%s)' % word] = (word in words)\n",
    "    return features\n",
    "word_features = list(set(word_features))\n",
    "\n",
    "#print(\"extraction done\")\n",
    "                             \n",
    "training = nltk.classify.util.apply_features(extract_features, train_tweets)\n",
    "classifier = nltk.NaiveBayesClassifier.train(training)\n",
    "classifier.show_most_informative_features()\n",
    "test = x_test['clean_text'].apply(lambda tweet:extract_features(get_feature_vector(tweet)))\n",
    "test_sentiment = test.apply(lambda x: classifier.classify(x))\n",
    "\n"
   ]
  },
  {
   "cell_type": "code",
   "execution_count": 19,
   "id": "18148b02",
   "metadata": {},
   "outputs": [
    {
     "ename": "TypeError",
     "evalue": "sparse matrix length is ambiguous; use getnnz() or shape[0]",
     "output_type": "error",
     "traceback": [
      "\u001b[0;31m---------------------------------------------------------------------------\u001b[0m",
      "\u001b[0;31mTypeError\u001b[0m                                 Traceback (most recent call last)",
      "\u001b[0;32m<ipython-input-19-416e192144d9>\u001b[0m in \u001b[0;36m<module>\u001b[0;34m\u001b[0m\n\u001b[1;32m      3\u001b[0m \u001b[0mpos_accuracy\u001b[0m\u001b[0;34m,\u001b[0m \u001b[0mneu_accuracy\u001b[0m\u001b[0;34m,\u001b[0m \u001b[0mneg_accuracy\u001b[0m \u001b[0;34m=\u001b[0m \u001b[0;36m0\u001b[0m\u001b[0;34m,\u001b[0m\u001b[0;36m0\u001b[0m\u001b[0;34m,\u001b[0m\u001b[0;36m0\u001b[0m\u001b[0;34m\u001b[0m\u001b[0;34m\u001b[0m\u001b[0m\n\u001b[1;32m      4\u001b[0m \u001b[0;34m\u001b[0m\u001b[0m\n\u001b[0;32m----> 5\u001b[0;31m \u001b[0;32mfor\u001b[0m \u001b[0mi\u001b[0m \u001b[0;32min\u001b[0m \u001b[0mrange\u001b[0m\u001b[0;34m(\u001b[0m\u001b[0mlen\u001b[0m\u001b[0;34m(\u001b[0m\u001b[0mx_test\u001b[0m\u001b[0;34m)\u001b[0m\u001b[0;34m)\u001b[0m\u001b[0;34m:\u001b[0m\u001b[0;34m\u001b[0m\u001b[0;34m\u001b[0m\u001b[0m\n\u001b[0m\u001b[1;32m      6\u001b[0m \u001b[0;34m\u001b[0m\u001b[0m\n\u001b[1;32m      7\u001b[0m     \u001b[0;32mif\u001b[0m \u001b[0;34m(\u001b[0m\u001b[0mtest_sentiment\u001b[0m\u001b[0;34m[\u001b[0m\u001b[0my_test\u001b[0m\u001b[0;34m[\u001b[0m\u001b[0mi\u001b[0m\u001b[0;34m]\u001b[0m\u001b[0;34m]\u001b[0m\u001b[0;34m==\u001b[0m\u001b[0mtrue_sentiments\u001b[0m\u001b[0;34m[\u001b[0m\u001b[0mi\u001b[0m\u001b[0;34m]\u001b[0m\u001b[0;34m)\u001b[0m\u001b[0;34m:\u001b[0m\u001b[0;34m\u001b[0m\u001b[0;34m\u001b[0m\u001b[0m\n",
      "\u001b[0;32m~/Desktop/temp/env/lib/python3.8/site-packages/scipy/sparse/base.py\u001b[0m in \u001b[0;36m__len__\u001b[0;34m(self)\u001b[0m\n\u001b[1;32m    289\u001b[0m     \u001b[0;31m# non-zeros is more important.  For now, raise an exception!\u001b[0m\u001b[0;34m\u001b[0m\u001b[0;34m\u001b[0m\u001b[0;34m\u001b[0m\u001b[0m\n\u001b[1;32m    290\u001b[0m     \u001b[0;32mdef\u001b[0m \u001b[0m__len__\u001b[0m\u001b[0;34m(\u001b[0m\u001b[0mself\u001b[0m\u001b[0;34m)\u001b[0m\u001b[0;34m:\u001b[0m\u001b[0;34m\u001b[0m\u001b[0;34m\u001b[0m\u001b[0m\n\u001b[0;32m--> 291\u001b[0;31m         raise TypeError(\"sparse matrix length is ambiguous; use getnnz()\"\n\u001b[0m\u001b[1;32m    292\u001b[0m                         \" or shape[0]\")\n\u001b[1;32m    293\u001b[0m \u001b[0;34m\u001b[0m\u001b[0m\n",
      "\u001b[0;31mTypeError\u001b[0m: sparse matrix length is ambiguous; use getnnz() or shape[0]"
     ]
    }
   ],
   "source": [
    "accuracy = 0\n",
    "true_pos, true_neu, true_neg = 0,0,0\n",
    "pos_accuracy, neu_accuracy, neg_accuracy = 0,0,0\n",
    "\n",
    "for i in range(len(x_test)):\n",
    "    \n",
    "    if (test_sentiment[y_test[i]]==true_sentiments[i]):\n",
    "        accuracy += 1\n",
    "        if(test_sentiment[y_test[i]]=='positive'):\n",
    "            true_pos += 1\n",
    "        elif(test_sentiment[y_test[i]]=='neutral'):\n",
    "            true_neu += 1\n",
    "        else:\n",
    "            true_neg = true_neg + 1\n",
    "    \n",
    "    if (true_sentiments[i]=='positive'):\n",
    "        pos_accuracy += 1\n",
    "    elif (true_sentiments[i]=='neutral'):\n",
    "        neu_accuracy += 1\n",
    "    else:\n",
    "        neg_accuracy += 1         \n",
    "\n",
    "accuracy = accuracy/float(len(x_test))\n",
    "pos_accuracy = true_pos/float(pos_accuracy)\n",
    "neu_accuracy = true_neu/float(neu_accuracy)\n",
    "neg_accuracy = true_neg/float(neg_accuracy)\n",
    "\n",
    "print (\"Accuracy is \" + str(accuracy))\n",
    "print (\"Positive precision is \" + str(pos_accuracy))\n",
    "print (\"Neutral precision is \" + str(neu_accuracy))\n",
    "print (\"Negative precision is \" + str(neg_accuracy))\n"
   ]
  },
  {
   "cell_type": "code",
   "execution_count": null,
   "id": "be029615",
   "metadata": {},
   "outputs": [],
   "source": []
  }
 ],
 "metadata": {
  "kernelspec": {
   "display_name": "Python 3",
   "language": "python",
   "name": "python3"
  },
  "language_info": {
   "codemirror_mode": {
    "name": "ipython",
    "version": 3
   },
   "file_extension": ".py",
   "mimetype": "text/x-python",
   "name": "python",
   "nbconvert_exporter": "python",
   "pygments_lexer": "ipython3",
   "version": "3.8.2"
  }
 },
 "nbformat": 4,
 "nbformat_minor": 5
}
